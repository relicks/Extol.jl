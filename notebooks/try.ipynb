{
 "cells": [
  {
   "cell_type": "code",
   "execution_count": 2,
   "metadata": {},
   "outputs": [],
   "source": [
    "using Extol: greet\n",
    "\n",
    "greet()"
   ]
  },
  {
   "cell_type": "code",
   "execution_count": 37,
   "metadata": {},
   "outputs": [],
   "source": [
    "using HTTP, JSON, CSV, DataFrames"
   ]
  },
  {
   "cell_type": "code",
   "execution_count": 55,
   "metadata": {},
   "outputs": [
    {
     "data": {
      "text/plain": [
       "\"{\\n  \\\"b\\\": 2,\\n  \\\"a\\\": 1\\n}\\n\""
      ]
     },
     "execution_count": 55,
     "metadata": {},
     "output_type": "execute_result"
    }
   ],
   "source": [
    "d = Dict(\"a\" => 1, \"b\" => 2)\n",
    "write(\"testy.json\", json(d, 2))\n",
    "json(d, 2)"
   ]
  },
  {
   "cell_type": "code",
   "execution_count": 46,
   "metadata": {},
   "outputs": [
    {
     "data": {
      "text/plain": [
       "200"
      ]
     },
     "execution_count": 46,
     "metadata": {},
     "output_type": "execute_result"
    }
   ],
   "source": [
    "resp = HTTP.get(\"https://people.sc.fsu.edu/~jburkardt/data/csv/cities.csv\");\n",
    "resp.status"
   ]
  },
  {
   "cell_type": "code",
   "execution_count": 47,
   "metadata": {},
   "outputs": [
    {
     "data": {
      "text/plain": [
       "IOBuffer(data=UInt8[...], readable=true, writable=false, seekable=true, append=false, size=8402, maxsize=Inf, ptr=1, mark=-1)"
      ]
     },
     "execution_count": 47,
     "metadata": {},
     "output_type": "execute_result"
    }
   ],
   "source": [
    "x = resp.body |> IOBuffer"
   ]
  },
  {
   "cell_type": "code",
   "execution_count": 54,
   "metadata": {},
   "outputs": [
    {
     "data": {
      "text/html": [
       "<div><div style = \"float: left;\"><span>5×10 DataFrame</span></div><div style = \"clear: both;\"></div></div><div class = \"data-frame\" style = \"overflow-x: scroll;\"><table class = \"data-frame\" style = \"margin-bottom: 6px;\"><thead><tr class = \"header\"><th class = \"rowNumber\" style = \"font-weight: bold; text-align: right;\">Row</th><th style = \"text-align: left;\">LatD</th><th style = \"text-align: left;\">LatM</th><th style = \"text-align: left;\">LatS</th><th style = \"text-align: left;\">NS</th><th style = \"text-align: left;\">LonD</th><th style = \"text-align: left;\">LonM</th><th style = \"text-align: left;\">LonS</th><th style = \"text-align: left;\">EW</th><th style = \"text-align: left;\">City</th><th style = \"text-align: left;\">State</th></tr><tr class = \"subheader headerLastRow\"><th class = \"rowNumber\" style = \"font-weight: bold; text-align: right;\"></th><th title = \"Int64\" style = \"text-align: left;\">Int64</th><th title = \"Int64\" style = \"text-align: left;\">Int64</th><th title = \"Int64\" style = \"text-align: left;\">Int64</th><th title = \"String1\" style = \"text-align: left;\">String1</th><th title = \"Int64\" style = \"text-align: left;\">Int64</th><th title = \"Int64\" style = \"text-align: left;\">Int64</th><th title = \"Int64\" style = \"text-align: left;\">Int64</th><th title = \"String1\" style = \"text-align: left;\">String1</th><th title = \"String31\" style = \"text-align: left;\">String31</th><th title = \"String7\" style = \"text-align: left;\">String7</th></tr></thead><tbody><tr><td class = \"rowNumber\" style = \"font-weight: bold; text-align: right;\">1</td><td style = \"text-align: right;\">41</td><td style = \"text-align: right;\">5</td><td style = \"text-align: right;\">59</td><td style = \"text-align: left;\">N</td><td style = \"text-align: right;\">80</td><td style = \"text-align: right;\">39</td><td style = \"text-align: right;\">0</td><td style = \"text-align: left;\">W</td><td style = \"text-align: left;\">Youngstown</td><td style = \"text-align: left;\"> OH</td></tr><tr><td class = \"rowNumber\" style = \"font-weight: bold; text-align: right;\">2</td><td style = \"text-align: right;\">42</td><td style = \"text-align: right;\">52</td><td style = \"text-align: right;\">48</td><td style = \"text-align: left;\">N</td><td style = \"text-align: right;\">97</td><td style = \"text-align: right;\">23</td><td style = \"text-align: right;\">23</td><td style = \"text-align: left;\">W</td><td style = \"text-align: left;\">Yankton</td><td style = \"text-align: left;\"> SD</td></tr><tr><td class = \"rowNumber\" style = \"font-weight: bold; text-align: right;\">3</td><td style = \"text-align: right;\">46</td><td style = \"text-align: right;\">35</td><td style = \"text-align: right;\">59</td><td style = \"text-align: left;\">N</td><td style = \"text-align: right;\">120</td><td style = \"text-align: right;\">30</td><td style = \"text-align: right;\">36</td><td style = \"text-align: left;\">W</td><td style = \"text-align: left;\">Yakima</td><td style = \"text-align: left;\"> WA</td></tr><tr><td class = \"rowNumber\" style = \"font-weight: bold; text-align: right;\">4</td><td style = \"text-align: right;\">42</td><td style = \"text-align: right;\">16</td><td style = \"text-align: right;\">12</td><td style = \"text-align: left;\">N</td><td style = \"text-align: right;\">71</td><td style = \"text-align: right;\">48</td><td style = \"text-align: right;\">0</td><td style = \"text-align: left;\">W</td><td style = \"text-align: left;\">Worcester</td><td style = \"text-align: left;\"> MA</td></tr><tr><td class = \"rowNumber\" style = \"font-weight: bold; text-align: right;\">5</td><td style = \"text-align: right;\">43</td><td style = \"text-align: right;\">37</td><td style = \"text-align: right;\">48</td><td style = \"text-align: left;\">N</td><td style = \"text-align: right;\">89</td><td style = \"text-align: right;\">46</td><td style = \"text-align: right;\">11</td><td style = \"text-align: left;\">W</td><td style = \"text-align: left;\">Wisconsin Dells</td><td style = \"text-align: left;\"> WI</td></tr></tbody></table></div>"
      ],
      "text/latex": [
       "\\begin{tabular}{r|cccccccccc}\n",
       "\t& LatD & LatM & LatS & NS & LonD & LonM & LonS & EW & City & State\\\\\n",
       "\t\\hline\n",
       "\t& Int64 & Int64 & Int64 & String1 & Int64 & Int64 & Int64 & String1 & String31 & String7\\\\\n",
       "\t\\hline\n",
       "\t1 & 41 & 5 & 59 & N & 80 & 39 & 0 & W & Youngstown &  OH \\\\\n",
       "\t2 & 42 & 52 & 48 & N & 97 & 23 & 23 & W & Yankton &  SD \\\\\n",
       "\t3 & 46 & 35 & 59 & N & 120 & 30 & 36 & W & Yakima &  WA \\\\\n",
       "\t4 & 42 & 16 & 12 & N & 71 & 48 & 0 & W & Worcester &  MA \\\\\n",
       "\t5 & 43 & 37 & 48 & N & 89 & 46 & 11 & W & Wisconsin Dells &  WI \\\\\n",
       "\\end{tabular}\n"
      ],
      "text/plain": [
       "\u001b[1m5×10 DataFrame\u001b[0m\n",
       "\u001b[1m Row \u001b[0m│\u001b[1m LatD  \u001b[0m\u001b[1m LatM  \u001b[0m\u001b[1m LatS  \u001b[0m\u001b[1m NS      \u001b[0m\u001b[1m LonD  \u001b[0m\u001b[1m LonM  \u001b[0m\u001b[1m LonS  \u001b[0m\u001b[1m EW      \u001b[0m\u001b[1m City       \u001b[0m ⋯\n",
       "     │\u001b[90m Int64 \u001b[0m\u001b[90m Int64 \u001b[0m\u001b[90m Int64 \u001b[0m\u001b[90m String1 \u001b[0m\u001b[90m Int64 \u001b[0m\u001b[90m Int64 \u001b[0m\u001b[90m Int64 \u001b[0m\u001b[90m String1 \u001b[0m\u001b[90m String31   \u001b[0m ⋯\n",
       "─────┼──────────────────────────────────────────────────────────────────────────\n",
       "   1 │    41      5     59  N           80     39      0  W        Youngstown  ⋯\n",
       "   2 │    42     52     48  N           97     23     23  W        Yankton\n",
       "   3 │    46     35     59  N          120     30     36  W        Yakima\n",
       "   4 │    42     16     12  N           71     48      0  W        Worcester\n",
       "   5 │    43     37     48  N           89     46     11  W        Wisconsin D ⋯\n",
       "\u001b[36m                                                               2 columns omitted\u001b[0m"
      ]
     },
     "execution_count": 54,
     "metadata": {},
     "output_type": "execute_result"
    }
   ],
   "source": [
    "df = CSV.read(x, DataFrame);\n",
    "first(df, 5)"
   ]
  },
  {
   "cell_type": "code",
   "execution_count": null,
   "metadata": {},
   "outputs": [],
   "source": []
  }
 ],
 "metadata": {
  "kernelspec": {
   "display_name": "Julia 1.10 global 1.10.5",
   "language": "julia",
   "name": "julia-1.10-global-1.10"
  },
  "language_info": {
   "file_extension": ".jl",
   "mimetype": "application/julia",
   "name": "julia",
   "version": "1.10.5"
  }
 },
 "nbformat": 4,
 "nbformat_minor": 2
}
